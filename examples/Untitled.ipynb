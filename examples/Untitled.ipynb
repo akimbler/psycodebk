{
 "cells": [
  {
   "cell_type": "code",
   "execution_count": 36,
   "metadata": {},
   "outputs": [
    {
     "data": {
      "text/plain": [
       "<module 'psycodebk.viz.viz' from 'D:\\\\Documents\\\\GitHub\\\\psycodebk\\\\psycodebk\\\\viz\\\\viz.py'>"
      ]
     },
     "execution_count": 36,
     "metadata": {},
     "output_type": "execute_result"
    }
   ],
   "source": [
    "import os\n",
    "import sys\n",
    "from imp import reload\n",
    "module_path = os.path.abspath(os.path.join('..'))\n",
    "if module_path not in sys.path:\n",
    "    sys.path.append(module_path)\n",
    "from psycodebk.parsing import parsing\n",
    "from psycodebk.utils import misc\n",
    "from psycodebk.viz import viz\n",
    "from flask import render_template\n",
    "import flask\n",
    "from pathlib import Path\n",
    "\n",
    "reload(parsing)\n",
    "reload(misc)\n",
    "reload(viz)"
   ]
  },
  {
   "cell_type": "code",
   "execution_count": 37,
   "metadata": {},
   "outputs": [],
   "source": [
    "import pandas as pd\n",
    "import json \n",
    "dataset = pd.read_csv(r\"D:\\Documents\\Florida International University\\EMU Study - Documents\\EMU Data\\redcap_info\\emuR01_full_latest.csv\", quotechar='\\'')\n",
    "with open(r\"D:\\Documents\\Florida International University\\EMU Study - Documents\\EMU Data\\redcap_info\\dataset_description.json\", 'r') as rf:\n",
    "    metadata = json.load(rf)\n",
    "dataset.rename({'casq_24': 'casq24'}, axis='columns', inplace=True)"
   ]
  },
  {
   "cell_type": "code",
   "execution_count": 38,
   "metadata": {},
   "outputs": [
    {
     "name": "stdout",
     "output_type": "stream",
     "text": [
      "adis_complete ordinal\n",
      "adis_r_diag1 ordinal\n",
      "adis_r_diag1_mean open\n",
      "adis_r_diag2 ordinal\n",
      "adis_r_diag2_mean open\n",
      "adis_r_diag3 ordinal\n",
      "adis_r_diag3_mean interval\n",
      "adis_r_diag4 ordinal\n",
      "adis_r_diag4_mean interval\n"
     ]
    },
    {
     "name": "stderr",
     "output_type": "stream",
     "text": [
      "C:\\Users\\Adam\\Anaconda3\\lib\\site-packages\\seaborn\\distributions.py:288: UserWarning: Data must have variance to compute a kernel density estimate.\n",
      "  warnings.warn(msg, UserWarning)\n"
     ]
    },
    {
     "name": "stdout",
     "output_type": "stream",
     "text": [
      "child_anxdiag1 ordinal\n",
      "child_anxdiag1_sev ordinal\n",
      "child_anxdiag2 ordinal\n",
      "child_anxdiag2_sev ordinal\n",
      "child_anxdiag3 ordinal\n",
      "child_anxdiag3_sev ordinal\n",
      "child_anxdiag4 ordinal\n",
      "child_anxdiag4_sev ordinal\n",
      "child_anxdiag5 ordinal\n",
      "child_anxdiag5_sev ordinal\n",
      "clinician_anxdiag1 ordinal\n",
      "clinician_anxdiag1_sev ordinal\n",
      "clinician_anxdiag2 ordinal\n",
      "clinician_anxdiag2_sev ordinal\n",
      "clinician_anxdiag3 ordinal\n",
      "clinician_anxdiag3_sev ordinal\n",
      "clinician_anxdiag4 ordinal\n",
      "clinician_anxdiag4_sev ordinal\n",
      "clinician_anxdiag5 ordinal\n",
      "clinician_anxdiag5_sev ordinal\n",
      "parent_anxdiag1 ordinal\n",
      "parent_anxdiag1_sev ordinal\n",
      "parent_anxdiag2 ordinal\n",
      "parent_anxdiag2_sev ordinal\n",
      "parent_anxdiag3 ordinal\n",
      "parent_anxdiag3_sev ordinal\n",
      "parent_anxdiag4 ordinal\n",
      "parent_anxdiag4_sev ordinal\n",
      "parent_anxdiag5 ordinal\n",
      "parent_anxdiag5_sev ordinal\n",
      "casq1 ordinal\n",
      "casq2 ordinal\n",
      "casq3 ordinal\n",
      "casq4 ordinal\n",
      "casq5 ordinal\n",
      "casq6 ordinal\n",
      "casq7 ordinal\n",
      "casq8 ordinal\n",
      "casq9 ordinal\n",
      "casq10 ordinal\n",
      "casq11 ordinal\n",
      "casq12 ordinal\n",
      "casq13 ordinal\n",
      "casq14 ordinal\n",
      "casq15 ordinal\n",
      "casq16 ordinal\n",
      "casq17 ordinal\n",
      "casq18 ordinal\n",
      "casq19 ordinal\n",
      "casq20 ordinal\n",
      "casq21 ordinal\n",
      "casq22 ordinal\n",
      "casq23 ordinal\n",
      "casq24 ordinal\n",
      "casq_neg Scale\n",
      "casq_pos Scale\n",
      "casq_os Scale\n",
      "cbcl1 ordinal\n",
      "cbcl2 ordinal\n",
      "cbcl3 ordinal\n",
      "cbcl4 ordinal\n",
      "cbcl5 ordinal\n",
      "cbcl6 ordinal\n",
      "cbcl7 ordinal\n",
      "cbcl8 ordinal\n",
      "cbcl9 ordinal\n",
      "cbcl_009_desc open\n",
      "cbcl10 ordinal\n",
      "cbcl11 ordinal\n",
      "cbcl12 ordinal\n",
      "cbcl13 ordinal\n",
      "cbcl14 ordinal\n",
      "cbcl15 ordinal\n",
      "cbcl16 ordinal\n",
      "cbcl17 ordinal\n",
      "cbcl18 ordinal\n"
     ]
    },
    {
     "name": "stderr",
     "output_type": "stream",
     "text": [
      "C:\\Users\\Adam\\Anaconda3\\lib\\site-packages\\scipy\\stats\\morestats.py:1673: UserWarning: Input data for shapiro has range zero. The results may not be accurate.\n",
      "  warnings.warn(\"Input data for shapiro has range zero. The results \"\n"
     ]
    },
    {
     "name": "stdout",
     "output_type": "stream",
     "text": [
      "cbcl19 ordinal\n",
      "cbcl20 ordinal\n",
      "cbcl21 ordinal\n",
      "cbcl22 ordinal\n",
      "cbcl23 ordinal\n",
      "cbcl24 ordinal\n",
      "cbcl25 ordinal\n",
      "cbcl26 ordinal\n",
      "cbcl27 ordinal\n",
      "cbcl28 ordinal\n",
      "cbcl29 ordinal\n",
      "cbcl_029_desc open\n",
      "cbcl30 ordinal\n",
      "cbcl31 ordinal\n",
      "cbcl32 ordinal\n",
      "cbcl33 ordinal\n",
      "cbcl34 ordinal\n",
      "cbcl35 ordinal\n",
      "cbcl36 ordinal\n",
      "cbcl37 ordinal\n",
      "cbcl38 ordinal\n",
      "cbcl39 ordinal\n",
      "cbcl40 ordinal\n",
      "cbcl_040_desc open\n",
      "cbcl41 ordinal\n",
      "cbcl42 ordinal\n",
      "cbcl43 ordinal\n",
      "cbcl44 ordinal\n",
      "cbcl45 ordinal\n",
      "cbcl46 ordinal\n",
      "cbcl_046_desc open\n",
      "cbcl47 ordinal\n",
      "cbcl48 ordinal\n",
      "cbcl49 ordinal\n",
      "cbcl50 ordinal\n",
      "cbcl51 ordinal\n",
      "cbcl52 ordinal\n",
      "cbcl53 ordinal\n",
      "cbcl54 ordinal\n",
      "cbcl55 ordinal\n",
      "cbcl56a ordinal\n",
      "cbcl56b ordinal\n",
      "cbcl56c ordinal\n",
      "cbcl56d ordinal\n",
      "cbcl_056d_desc open\n",
      "cbcl56e ordinal\n",
      "cbcl56f ordinal\n",
      "cbcl56g ordinal\n",
      "cbcl56h ordinal\n",
      "cbcl56h_des open\n",
      "cbcl57 ordinal\n",
      "cbcl58 ordinal\n",
      "cbcl_058_desc open\n",
      "cbcl59 ordinal\n",
      "cbcl60 ordinal\n",
      "cbcl61 ordinal\n",
      "cbcl62 ordinal\n",
      "cbcl63 ordinal\n",
      "cbcl64 ordinal\n",
      "cbcl65 ordinal\n",
      "cbcl66 ordinal\n",
      "cbcl_066_desc open\n",
      "cbcl67 ordinal\n"
     ]
    },
    {
     "name": "stderr",
     "output_type": "stream",
     "text": [
      "C:\\Users\\Adam\\Anaconda3\\lib\\site-packages\\scipy\\stats\\morestats.py:1673: UserWarning: Input data for shapiro has range zero. The results may not be accurate.\n",
      "  warnings.warn(\"Input data for shapiro has range zero. The results \"\n"
     ]
    },
    {
     "name": "stdout",
     "output_type": "stream",
     "text": [
      "cbcl68 ordinal\n",
      "cbcl69 ordinal\n",
      "cbcl70 ordinal\n",
      "cbcl_070_desc open\n",
      "cbcl71 ordinal\n",
      "cbcl72 ordinal\n",
      "cbcl73 ordinal\n"
     ]
    },
    {
     "name": "stderr",
     "output_type": "stream",
     "text": [
      "C:\\Users\\Adam\\Anaconda3\\lib\\site-packages\\scipy\\stats\\morestats.py:1673: UserWarning: Input data for shapiro has range zero. The results may not be accurate.\n",
      "  warnings.warn(\"Input data for shapiro has range zero. The results \"\n"
     ]
    },
    {
     "name": "stdout",
     "output_type": "stream",
     "text": [
      "cbcl74 ordinal\n",
      "cbcl75 ordinal\n",
      "cbcl76 ordinal\n",
      "cbcl77 ordinal\n",
      "cbcl_077_desc open\n",
      "cbcl78 ordinal\n",
      "cbcl79 ordinal\n",
      "cbcl_079_desc open\n",
      "cbcl80 ordinal\n",
      "cbcl81 ordinal\n",
      "cbcl82 ordinal\n"
     ]
    },
    {
     "name": "stderr",
     "output_type": "stream",
     "text": [
      "C:\\Users\\Adam\\Anaconda3\\lib\\site-packages\\scipy\\stats\\morestats.py:1673: UserWarning: Input data for shapiro has range zero. The results may not be accurate.\n",
      "  warnings.warn(\"Input data for shapiro has range zero. The results \"\n"
     ]
    },
    {
     "name": "stdout",
     "output_type": "stream",
     "text": [
      "cbcl83 ordinal\n",
      "cbcl_083_desc open\n",
      "cbcl84 ordinal\n",
      "cbcl_084_desc open\n",
      "cbcl85 ordinal\n",
      "cbcl_085_desc open\n",
      "cbcl86 ordinal\n",
      "cbcl87 ordinal\n",
      "cbcl88 ordinal\n",
      "cbcl89 ordinal\n",
      "cbcl90 ordinal\n",
      "cbcl91 ordinal\n",
      "cbcl92 ordinal\n",
      "cbcl_092_desc open\n",
      "cbcl93 ordinal\n",
      "cbcl94 ordinal\n",
      "cbcl95 ordinal\n",
      "cbcl96 ordinal\n",
      "cbcl97 ordinal\n"
     ]
    },
    {
     "name": "stderr",
     "output_type": "stream",
     "text": [
      "C:\\Users\\Adam\\Anaconda3\\lib\\site-packages\\scipy\\stats\\morestats.py:1673: UserWarning: Input data for shapiro has range zero. The results may not be accurate.\n",
      "  warnings.warn(\"Input data for shapiro has range zero. The results \"\n"
     ]
    },
    {
     "name": "stdout",
     "output_type": "stream",
     "text": [
      "cbcl98 ordinal\n",
      "cbcl99 ordinal\n"
     ]
    },
    {
     "name": "stderr",
     "output_type": "stream",
     "text": [
      "C:\\Users\\Adam\\Anaconda3\\lib\\site-packages\\scipy\\stats\\morestats.py:1673: UserWarning: Input data for shapiro has range zero. The results may not be accurate.\n",
      "  warnings.warn(\"Input data for shapiro has range zero. The results \"\n"
     ]
    },
    {
     "name": "stdout",
     "output_type": "stream",
     "text": [
      "cbcl100 ordinal\n",
      "cbcl_100_desc open\n",
      "cbcl101 ordinal\n"
     ]
    },
    {
     "name": "stderr",
     "output_type": "stream",
     "text": [
      "C:\\Users\\Adam\\Anaconda3\\lib\\site-packages\\scipy\\stats\\morestats.py:1673: UserWarning: Input data for shapiro has range zero. The results may not be accurate.\n",
      "  warnings.warn(\"Input data for shapiro has range zero. The results \"\n"
     ]
    },
    {
     "name": "stdout",
     "output_type": "stream",
     "text": [
      "cbcl102 ordinal\n",
      "cbcl103 ordinal\n",
      "cbcl104 ordinal\n",
      "cbcl105 ordinal\n"
     ]
    },
    {
     "name": "stderr",
     "output_type": "stream",
     "text": [
      "C:\\Users\\Adam\\Anaconda3\\lib\\site-packages\\scipy\\stats\\morestats.py:1673: UserWarning: Input data for shapiro has range zero. The results may not be accurate.\n",
      "  warnings.warn(\"Input data for shapiro has range zero. The results \"\n"
     ]
    },
    {
     "name": "stdout",
     "output_type": "stream",
     "text": [
      "cbcl106 ordinal\n"
     ]
    },
    {
     "name": "stderr",
     "output_type": "stream",
     "text": [
      "C:\\Users\\Adam\\Anaconda3\\lib\\site-packages\\scipy\\stats\\morestats.py:1673: UserWarning: Input data for shapiro has range zero. The results may not be accurate.\n",
      "  warnings.warn(\"Input data for shapiro has range zero. The results \"\n"
     ]
    },
    {
     "name": "stdout",
     "output_type": "stream",
     "text": [
      "cbcl107 ordinal\n",
      "cbcl108 ordinal\n",
      "cbcl109 ordinal\n",
      "cbcl110 ordinal\n"
     ]
    },
    {
     "name": "stderr",
     "output_type": "stream",
     "text": [
      "C:\\Users\\Adam\\Anaconda3\\lib\\site-packages\\scipy\\stats\\morestats.py:1673: UserWarning: Input data for shapiro has range zero. The results may not be accurate.\n",
      "  warnings.warn(\"Input data for shapiro has range zero. The results \"\n"
     ]
    },
    {
     "name": "stdout",
     "output_type": "stream",
     "text": [
      "cbcl111 ordinal\n"
     ]
    }
   ],
   "source": [
    "var_sections = []\n",
    "app = flask.Flask('parsing', template_folder=(Path.cwd().parent / 'psycodebk' / 'templates').resolve())\n",
    "\n",
    "for variable in metadata['variableMeasured'][:200]:\n",
    "    var_name = variable['name']\n",
    "    if var_name not in dataset.columns:\n",
    "        continue\n",
    "    var_description = variable['description']\n",
    "    var_type = misc.type_variable(variable, dataset)\n",
    "    print(var_name, var_type)\n",
    "    var_table, missing_values = parsing.construct_var_summtab(metadata=variable, dataset=dataset, typing=var_type)\n",
    "    image_data, distribution_data = viz.plot(variable=variable, dataset=dataset, typing=var_type)\n",
    "    value_list = parsing.produce_value_list(variable) if 'values' in variable else '<li>None</li>'\n",
    "    with app.app_context():\n",
    "        variable_section = render_template(\n",
    "            'var_construction.html', \n",
    "            var_name=var_name, \n",
    "            var_description=var_description, \n",
    "            missing_values=missing_values, \n",
    "            var_table=var_table,\n",
    "            image_data=image_data,\n",
    "            value_list=value_list,\n",
    "            typing=var_type,\n",
    "            distribution_data=distribution_data)\n",
    "        var_sections.append(variable_section)\n",
    "with app.app_context():\n",
    "    metadata_section = render_template('metadata_section.html', metadata=metadata)\n",
    "    variable_section = render_template('variable_section.html', var_sections=var_sections)\n",
    "    rf = open('test.html', 'w', encoding='utf-8')\n",
    "    rf.write(render_template('main_body.html', metadata_section=metadata_section, variable_section=variable_section))\n",
    "    rf.close()"
   ]
  },
  {
   "cell_type": "code",
   "execution_count": 24,
   "metadata": {},
   "outputs": [
    {
     "data": {
      "text/plain": [
       "{'1.0': 'A.', '0.0': 'B.', '77.0': 'I'}"
      ]
     },
     "execution_count": 24,
     "metadata": {},
     "output_type": "execute_result"
    }
   ],
   "source": [
    "misc._parse_vals(variable['values'])"
   ]
  },
  {
   "cell_type": "code",
   "execution_count": null,
   "metadata": {},
   "outputs": [],
   "source": []
  }
 ],
 "metadata": {
  "kernelspec": {
   "display_name": "Python 3",
   "language": "python",
   "name": "python3"
  },
  "language_info": {
   "codemirror_mode": {
    "name": "ipython",
    "version": 3
   },
   "file_extension": ".py",
   "mimetype": "text/x-python",
   "name": "python",
   "nbconvert_exporter": "python",
   "pygments_lexer": "ipython3",
   "version": "3.7.7"
  }
 },
 "nbformat": 4,
 "nbformat_minor": 4
}
